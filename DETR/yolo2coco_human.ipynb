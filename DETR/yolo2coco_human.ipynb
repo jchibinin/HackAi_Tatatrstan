{
 "cells": [
  {
   "cell_type": "code",
   "execution_count": 6,
   "id": "6c167480",
   "metadata": {
    "scrolled": true
   },
   "outputs": [
    {
     "data": {
      "text/plain": [
       "head..txt        1741\n",
       "human..txt       1740\n",
       "car..txt         1647\n",
       "face..txt         630\n",
       "carplate..txt     246\n",
       "dtype: int64"
      ]
     },
     "execution_count": 6,
     "metadata": {},
     "output_type": "execute_result"
    }
   ],
   "source": [
    "import pandas as pd\n",
    "import os\n",
    "import shutil\n",
    "pd.Series([file_name.split('_')[-1] for file_name in os.listdir('train_dataset_train/train/labels')]).value_counts()"
   ]
  },
  {
   "cell_type": "markdown",
   "id": "c320f2bb",
   "metadata": {},
   "source": [
    "### Humans"
   ]
  },
  {
   "cell_type": "code",
   "execution_count": 7,
   "id": "755dc356",
   "metadata": {},
   "outputs": [],
   "source": [
    "human_labels_only = [file_name for file_name in os.listdir('train_dataset_train/train/labels') if 'human..txt' in file_name]\n",
    "human_images_names = [file_name.split('_human..txt')[0] for file_name in human_labels_only]"
   ]
  },
  {
   "cell_type": "code",
   "execution_count": 8,
   "id": "94f5a543",
   "metadata": {},
   "outputs": [
    {
     "name": "stdout",
     "output_type": "stream",
     "text": [
      "1392 349\n"
     ]
    }
   ],
   "source": [
    "from sklearn.model_selection import train_test_split\n",
    "train_images_names, test_images_names = train_test_split(human_images_names, test_size=0.2, random_state=22)\n",
    "print(len(train_images_names), len(test_images_names))"
   ]
  },
  {
   "cell_type": "code",
   "execution_count": 9,
   "id": "550205a8",
   "metadata": {},
   "outputs": [
    {
     "name": "stderr",
     "output_type": "stream",
     "text": [
      "'rm' is not recognized as an internal or external command,\n",
      "operable program or batch file.\n",
      "'rm' is not recognized as an internal or external command,\n",
      "operable program or batch file.\n",
      "'rm' is not recognized as an internal or external command,\n",
      "operable program or batch file.\n",
      "'rm' is not recognized as an internal or external command,\n",
      "operable program or batch file.\n",
      "'rm' is not recognized as an internal or external command,\n",
      "operable program or batch file.\n",
      "A subdirectory or file train_dataset_train/_head/train/labels already exists.\n",
      "A subdirectory or file train_dataset_train/_head/train/images already exists.\n",
      "A subdirectory or file train_dataset_train/_head/test/labels already exists.\n",
      "A subdirectory or file train_dataset_train/_head/test/images already exists.\n",
      "A subdirectory or file train_dataset_train/_head/annotations already exists.\n"
     ]
    }
   ],
   "source": [
    "!rm \"train_dataset_train/_human/train/labels\"\n",
    "!rm \"train_dataset_train/_human/train/images\"\n",
    "!rm \"train_dataset_train/_human/test/labels\"\n",
    "!rm \"train_dataset_train/_human/test/images\"\n",
    "!rm \"train_dataset_train/_human/annotations\"\n",
    "\n",
    "!mkdir \"train_dataset_train/_human/train/labels\"\n",
    "!mkdir \"train_dataset_train/_human/train/images\"\n",
    "!mkdir \"train_dataset_train/_human/test/labels\"\n",
    "!mkdir \"train_dataset_train/_human/test/images\"\n",
    "!mkdir \"train_dataset_train/_human/annotations\""
   ]
  },
  {
   "cell_type": "code",
   "execution_count": 10,
   "id": "fe3f6c20",
   "metadata": {},
   "outputs": [],
   "source": [
    "#train\n",
    "for train_image in train_images_names:\n",
    "  #labels\n",
    "  for file in os.listdir('train_dataset_train/train/labels'): \n",
    "    if '_human..txt' in file and train_image in file: \n",
    "      shutil.copy('train_dataset_train/train/labels/' + file, 'train_dataset_train/_human/train/labels/' + file.replace('_human..txt', '.txt'))\n",
    "  #images \n",
    "  for file in os.listdir('train_dataset_train/train/images'): \n",
    "    if train_image + '.jpg' == file: \n",
    "      shutil.copy('train_dataset_train/train/images/' + file, 'train_dataset_train/_human/train/images/')\n",
    "\n",
    "#test\n",
    "for test_image in test_images_names:\n",
    "  #labels\n",
    "  for file in os.listdir('train_dataset_train/train/labels'): \n",
    "    if '_human..txt' in file and test_image in file: \n",
    "      shutil.copy('train_dataset_train/train/labels/' + file, 'train_dataset_train/_human/test/labels/' + file.replace('_human..txt', '.txt'))\n",
    "  #images \n",
    "  for file in os.listdir('train_dataset_train/train/images'): \n",
    "    if test_image + '.jpg' == file: \n",
    "      shutil.copy('train_dataset_train/train/images/' + file, 'train_dataset_train/_human/test/images/')            "
   ]
  },
  {
   "cell_type": "code",
   "execution_count": 13,
   "id": "8eafc867",
   "metadata": {},
   "outputs": [],
   "source": [
    "from pylabel import importer\n",
    "\n",
    "#train\n",
    "path_to_annotations = \"train_dataset_train/_human/train/labels/\"\n",
    "path_to_images = \"../images/\"\n",
    "\n",
    "dataset_train = importer.ImportYoloV5(path=path_to_annotations, path_to_images=path_to_images,img_ext='jpg,jpeg,png',name='human', cat_names=['human'])\n",
    "\n",
    "#test\n",
    "path_to_annotations = \"train_dataset_train/_human/test/labels/\"\n",
    "path_to_images = \"../images/\"\n",
    "\n",
    "dataset_test = importer.ImportYoloV5(path=path_to_annotations, path_to_images=path_to_images,img_ext='jpg,jpeg,png',name='human', cat_names=['human'])\n",
    "\n"
   ]
  },
  {
   "cell_type": "code",
   "execution_count": null,
   "id": "7fc920b6",
   "metadata": {
    "scrolled": true
   },
   "outputs": [],
   "source": [
    "from IPython.display import Image, display\n",
    "display(dataset_train.visualize.ShowBoundingBoxes(150))"
   ]
  },
  {
   "cell_type": "code",
   "execution_count": null,
   "id": "a0b4e449",
   "metadata": {},
   "outputs": [],
   "source": [
    "display(dataset_test.visualize.ShowBoundingBoxes(5))"
   ]
  },
  {
   "cell_type": "code",
   "execution_count": null,
   "id": "e1c4de9b",
   "metadata": {
    "scrolled": true
   },
   "outputs": [],
   "source": [
    "dataset_train.export.ExportToCoco(cat_id_index=0, output_path = \"train_dataset_train/_human/annotations/train.json\")\n",
    "dataset_test.export.ExportToCoco(cat_id_index=0, output_path = \"train_dataset_train/_human/annotations/test.json\")"
   ]
  },
  {
   "cell_type": "code",
   "execution_count": null,
   "id": "a31e9784",
   "metadata": {},
   "outputs": [],
   "source": []
  }
 ],
 "metadata": {
  "kernelspec": {
   "display_name": "Python 3 (ipykernel)",
   "language": "python",
   "name": "python3"
  },
  "language_info": {
   "codemirror_mode": {
    "name": "ipython",
    "version": 3
   },
   "file_extension": ".py",
   "mimetype": "text/x-python",
   "name": "python",
   "nbconvert_exporter": "python",
   "pygments_lexer": "ipython3",
   "version": "3.9.12"
  }
 },
 "nbformat": 4,
 "nbformat_minor": 5
}
